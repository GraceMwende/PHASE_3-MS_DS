{
 "cells": [
  {
   "cell_type": "markdown",
   "id": "78669ecf",
   "metadata": {},
   "source": [
    "# Machine Learning Fundamentals\n",
    "\n",
    "---\n",
    "\n",
    "## **What is Machine Learning?**\n",
    "\n",
    "Machine Learning is a subset of artificial intelligence (AI) that focuses on developing algorithms and statistical models that enable computers to perform tasks by learning from data. The goal is to create systems that can improve their performance over time based on experience.\n",
    "\n",
    "---\n",
    "\n",
    "## **Types of Machine Learning**\n",
    "\n",
    "### 1. **Supervised Learning**\n",
    "- The algorithm is trained on a labeled dataset, meaning each training example has an input and a known output.  \n",
    "- **Goal**: Learn a mapping from inputs to outputs.  \n",
    "- **Common Tasks**:\n",
    "  - **Regression**: Predicting continuous values (e.g., house prices).\n",
    "  - **Classification**: Predicting categorical values (e.g., spam detection).\n",
    "\n",
    "### 2. **Unsupervised Learning**\n",
    "- The algorithm is trained on an unlabeled dataset, meaning the model identifies patterns and relationships within the data without specific guidance on the output.  \n",
    "- **Common Tasks**:\n",
    "  - **Clustering**: Grouping similar data points (e.g., customer segmentation).\n",
    "  - **Dimensionality Reduction**: Reducing the number of features while retaining key information.\n",
    "\n",
    "### 3. **Reinforcement Learning**\n",
    "- An agent interacts with an environment and learns by receiving feedback in the form of rewards or penalties.  \n",
    "- **Goal**: Learn a policy that maximizes cumulative rewards over time.  \n",
    "- **Applications**: Robotics, gaming, and autonomous systems.\n",
    "\n",
    "---\n",
    "\n",
    "## **Key Concepts in Machine Learning**\n",
    "\n",
    "### **Datasets**\n",
    "- A dataset is a collection of data points used to train and evaluate machine learning models.  \n",
    "- It typically consists of:\n",
    "  - **Features**: Input variables.\n",
    "  - **Labels**: Output variables.\n",
    "\n",
    "### **Training and Testing**\n",
    "- **Training Set**: Used to train the model.  \n",
    "- **Testing Set**: Used to evaluate model performance and generalization to new data.\n",
    "\n",
    "### **Model**\n",
    "- A mathematical representation of the underlying patterns in the data, created by training an algorithm.\n",
    "\n",
    "### **Algorithm**\n",
    "- A set of rules or instructions followed by a machine to perform a task.  \n",
    "- In ML, algorithms are used to build models from data.\n",
    "\n",
    "### **Features and Labels**\n",
    "- **Features**: The input variables used by the model to make predictions.  \n",
    "- **Labels**: The true output values used to train the model.\n",
    "\n",
    "---\n",
    "\n",
    "## **Common Machine Learning Algorithms**\n",
    "\n",
    "1. **Linear Regression**:  \n",
    "   - A regression algorithm used to predict continuous values.  \n",
    "   - Assumes a linear relationship between the input features and the output.\n",
    "\n",
    "2. **Logistic Regression**:  \n",
    "   - A classification algorithm used to predict binary outcomes (e.g., yes/no).  \n",
    "   - Models the probability of the output using a logistic function.\n",
    "\n",
    "3. **Decision Trees**:  \n",
    "   - Splits the data into subsets based on feature values to make predictions.  \n",
    "   - Can be used for both regression and classification tasks.\n",
    "\n",
    "4. **K-Nearest Neighbors (KNN)**:  \n",
    "   - Assigns a label to a data point based on the majority label of its k nearest neighbors.\n",
    "\n",
    "5. **Support Vector Machines (SVM)**:  \n",
    "  \n"
   ]
  },
  {
   "cell_type": "markdown",
   "id": "77570ba1",
   "metadata": {},
   "source": [
    "##  1. Loading Libraries\n",
    "We import libraries for numerical operations (numpy), data manipulation (pandas), visualization (matplotlib, seaborn), and machine learning (sklearn). Setting up notebook aesthetics helps in making the plots more readable."
   ]
  },
  {
   "cell_type": "code",
   "execution_count": 10,
   "id": "1e4798a7",
   "metadata": {},
   "outputs": [],
   "source": [
    "# Importing necessary libraries\n",
    "import numpy as np\n",
    "import pandas as pd\n",
    "import matplotlib.pyplot as plt\n",
    "import seaborn as sns\n",
    "from sklearn.model_selection import train_test_split, cross_val_score, KFold\n",
    "from sklearn.linear_model import LinearRegression, Ridge, Lasso\n",
    "from sklearn.preprocessing import FunctionTransformer, OneHotEncoder\n",
    "from sklearn.compose import ColumnTransformer\n",
    "from sklearn.metrics import mean_squared_error, r2_score\n",
    "\n",
    "# Setting up the notebook aesthetics\n",
    "sns.set(style=\"whitegrid\")\n",
    "plt.style.use(\"fivethirtyeight\")\n"
   ]
  },
  {
   "cell_type": "markdown",
   "id": "99357565",
   "metadata": {},
   "source": [
    "## 2. Loading and Cleaning the Dataset\n",
    "We then load the dataset and clean it by handling missing values."
   ]
  },
  {
   "cell_type": "code",
   "execution_count": 11,
   "id": "200c1e49",
   "metadata": {},
   "outputs": [
    {
     "data": {
      "text/html": [
       "<div>\n",
       "<style scoped>\n",
       "    .dataframe tbody tr th:only-of-type {\n",
       "        vertical-align: middle;\n",
       "    }\n",
       "\n",
       "    .dataframe tbody tr th {\n",
       "        vertical-align: top;\n",
       "    }\n",
       "\n",
       "    .dataframe thead th {\n",
       "        text-align: right;\n",
       "    }\n",
       "</style>\n",
       "<table border=\"1\" class=\"dataframe\">\n",
       "  <thead>\n",
       "    <tr style=\"text-align: right;\">\n",
       "      <th></th>\n",
       "      <th>mpg</th>\n",
       "      <th>cylinders</th>\n",
       "      <th>displacement</th>\n",
       "      <th>horsepower</th>\n",
       "      <th>weight</th>\n",
       "      <th>acceleration</th>\n",
       "      <th>model year</th>\n",
       "      <th>origin</th>\n",
       "      <th>car name</th>\n",
       "    </tr>\n",
       "  </thead>\n",
       "  <tbody>\n",
       "    <tr>\n",
       "      <th>0</th>\n",
       "      <td>18.0</td>\n",
       "      <td>8</td>\n",
       "      <td>307.0</td>\n",
       "      <td>130</td>\n",
       "      <td>3504</td>\n",
       "      <td>12.0</td>\n",
       "      <td>70</td>\n",
       "      <td>1</td>\n",
       "      <td>chevrolet chevelle malibu</td>\n",
       "    </tr>\n",
       "    <tr>\n",
       "      <th>1</th>\n",
       "      <td>15.0</td>\n",
       "      <td>8</td>\n",
       "      <td>350.0</td>\n",
       "      <td>165</td>\n",
       "      <td>3693</td>\n",
       "      <td>11.5</td>\n",
       "      <td>70</td>\n",
       "      <td>1</td>\n",
       "      <td>buick skylark 320</td>\n",
       "    </tr>\n",
       "    <tr>\n",
       "      <th>2</th>\n",
       "      <td>18.0</td>\n",
       "      <td>8</td>\n",
       "      <td>318.0</td>\n",
       "      <td>150</td>\n",
       "      <td>3436</td>\n",
       "      <td>11.0</td>\n",
       "      <td>70</td>\n",
       "      <td>1</td>\n",
       "      <td>plymouth satellite</td>\n",
       "    </tr>\n",
       "    <tr>\n",
       "      <th>3</th>\n",
       "      <td>16.0</td>\n",
       "      <td>8</td>\n",
       "      <td>304.0</td>\n",
       "      <td>150</td>\n",
       "      <td>3433</td>\n",
       "      <td>12.0</td>\n",
       "      <td>70</td>\n",
       "      <td>1</td>\n",
       "      <td>amc rebel sst</td>\n",
       "    </tr>\n",
       "    <tr>\n",
       "      <th>4</th>\n",
       "      <td>17.0</td>\n",
       "      <td>8</td>\n",
       "      <td>302.0</td>\n",
       "      <td>140</td>\n",
       "      <td>3449</td>\n",
       "      <td>10.5</td>\n",
       "      <td>70</td>\n",
       "      <td>1</td>\n",
       "      <td>ford torino</td>\n",
       "    </tr>\n",
       "  </tbody>\n",
       "</table>\n",
       "</div>"
      ],
      "text/plain": [
       "    mpg  cylinders  displacement  horsepower  weight  acceleration  \\\n",
       "0  18.0          8         307.0         130    3504          12.0   \n",
       "1  15.0          8         350.0         165    3693          11.5   \n",
       "2  18.0          8         318.0         150    3436          11.0   \n",
       "3  16.0          8         304.0         150    3433          12.0   \n",
       "4  17.0          8         302.0         140    3449          10.5   \n",
       "\n",
       "   model year  origin                   car name  \n",
       "0          70       1  chevrolet chevelle malibu  \n",
       "1          70       1          buick skylark 320  \n",
       "2          70       1         plymouth satellite  \n",
       "3          70       1              amc rebel sst  \n",
       "4          70       1                ford torino  "
      ]
     },
     "execution_count": 11,
     "metadata": {},
     "output_type": "execute_result"
    }
   ],
   "source": [
    "# Loading the dataset\n",
    "df = pd.read_csv(\"data/auto-mpg.csv\")\n",
    "df.head()\n"
   ]
  },
  {
   "cell_type": "markdown",
   "id": "7e475e8d",
   "metadata": {},
   "source": [
    "## 3. Preprocessing \n",
    "\n",
    "### Data Train Test Split\n",
    "\n",
    "To prevent data leakage, preprocessing steps like log transformation and one-hot encoding should be applied after the data is split into training and testing sets. This ensures that information from the test set does not influence the training process, which would lead to overly optimistic results."
   ]
  },
  {
   "cell_type": "code",
   "execution_count": 12,
   "id": "fe3475da",
   "metadata": {},
   "outputs": [
    {
     "name": "stdout",
     "output_type": "stream",
     "text": [
      "\n",
      "### Splitting Data ###\n",
      "Training set size: 313 rows\n",
      "Testing set size: 79 rows\n"
     ]
    }
   ],
   "source": [
    "# Step 1: Splitting the dataset\n",
    "def split_data():\n",
    "    print(\"\\n### Splitting Data ###\")\n",
    "    \n",
    "    # Separate features and target variable\n",
    "    X = df.drop(['mpg', 'car name'], axis=1)  # Features\n",
    "    y = df['mpg']  # Target variable\n",
    "    \n",
    "    # Splitting into training and testing sets\n",
    "    X_train, X_test, y_train, y_test = train_test_split(X, y, test_size=0.2, random_state=42)\n",
    "    \n",
    "    print(f\"Training set size: {X_train.shape[0]} rows\")\n",
    "    print(f\"Testing set size: {X_test.shape[0]} rows\")\n",
    "    \n",
    "    return X_train, X_test, y_train, y_test\n",
    "\n",
    "X_train, X_test, y_train, y_test = split_data()\n"
   ]
  },
  {
   "cell_type": "markdown",
   "id": "4be9cf16",
   "metadata": {},
   "source": [
    "### Defining the Preprocessing Pipeline\n",
    "We define the transformations to be applied to the training data, such as log transformation for continuous variables and one-hot encoding for categorical variables."
   ]
  },
  {
   "cell_type": "code",
   "execution_count": 13,
   "id": "f06c4fc5",
   "metadata": {},
   "outputs": [],
   "source": [
    "# Step 2: Defining the preprocessing pipeline\n",
    "def define_preprocessor():\n",
    "    \n",
    "    # Log transformation for continuous variables\n",
    "    log_transformer = FunctionTransformer(np.log1p, validate=True)\n",
    "    \n",
    "    # One-hot encoding for categorical variables\n",
    "    one_hot_encoder = OneHotEncoder()\n",
    "    \n",
    "    # Preprocessing pipeline\n",
    "    preprocessor = ColumnTransformer(\n",
    "        transformers=[\n",
    "            ('log', log_transformer, ['displacement', 'horsepower', 'weight']),\n",
    "            ('onehot', one_hot_encoder, ['origin'])\n",
    "        ],\n",
    "        remainder='passthrough'\n",
    "    )\n",
    "    return preprocessor\n",
    "\n",
    "preprocessor = define_preprocessor()\n"
   ]
  },
  {
   "cell_type": "code",
   "execution_count": 14,
   "id": "8426b8d9",
   "metadata": {},
   "outputs": [],
   "source": [
    "# # Log transformation for continuous variables\n",
    "# log_transformer = FunctionTransformer(np.log1p, validate=True)\n",
    "\n",
    "# # One-hot encoding for categorical variables\n",
    "# one_hot_encoder = OneHotEncoder(drop='first')\n",
    "\n",
    "# # Preprocessing pipeline\n",
    "# preprocessor = ColumnTransformer(\n",
    "#     transformers=[\n",
    "#         ('log', log_transformer, ['displacement', 'horsepower', 'weight']),\n",
    "#         ('onehot', one_hot_encoder, ['origin'])\n",
    "#     ],\n",
    "#     remainder='passthrough'\n",
    "# )\n",
    "# return preprocessor\n",
    "\n",
    "# X_train_transformed = pd.DataFrame(preprocessor.fit_transform(X_train))\n",
    "# X_test_transformed = pd.DataFrame(preprocessor.fit_transform(X_test))"
   ]
  },
  {
   "cell_type": "markdown",
   "id": "cb440473",
   "metadata": {},
   "source": [
    "Log Transformation: Applied to continuous variables to reduce the impact of skewness and outliers.\n",
    "\n",
    "One-Hot Encoding: Converts categorical variables into a binary format, making them suitable for machine learning algorithms.\n",
    "\n",
    "ColumnTransformer: Applies specific transformations to selected columns while leaving others unchanged (remainder='passthrough')."
   ]
  },
  {
   "cell_type": "markdown",
   "id": "a552c8f5",
   "metadata": {},
   "source": [
    "## 4. Testing for Overfit or Underfit using Linear Regression\n",
    "We train a linear regression model and visualize the results to check for overfitting or underfitting.\n",
    "\n",
    "To test for overfitting, we need to compare the model's Mean Squared Error (MSE) on both the training and testing sets. If the model performs significantly better on the training set compared to the testing set, it is likely overfitting. Let's update the code to include MSE calculations for both sets."
   ]
  },
  {
   "cell_type": "code",
   "execution_count": 15,
   "id": "ae1e8822",
   "metadata": {},
   "outputs": [
    {
     "name": "stdout",
     "output_type": "stream",
     "text": [
      "\n",
      "### Simple Linear Regression model ###\n",
      "Training MSE: 10.979255842373481\n",
      "Testing MSE: 10.710864418838366\n",
      "Training R^2 Score: 0.826001578671067\n",
      "Testing R^2 Score: 0.7901500386760352\n"
     ]
    },
    {
     "data": {
      "image/png": "[encoded data removed]",
      "text/plain": [
       "<Figure size 720x432 with 1 Axes>"
      ]
     },
     "metadata": {},
     "output_type": "display_data"
    }
   ],
   "source": [
    "# Testing for overfit or underfit using linear regression\n",
    "def linear_regression_intro(X_train, X_test, y_train, y_test):\n",
    "    print(\"\\n### Simple Linear Regression model ###\")\n",
    "    \n",
    "    # Initialize and train the model\n",
    "    lr = LinearRegression()\n",
    "    lr.fit(X_train, y_train)\n",
    "    \n",
    "    # Predictions\n",
    "    y_train_pred = lr.predict(X_train)\n",
    "    y_test_pred = lr.predict(X_test)\n",
    "    \n",
    "    # Evaluation\n",
    "    train_mse = mean_squared_error(y_train, y_train_pred)\n",
    "    test_mse = mean_squared_error(y_test, y_test_pred)\n",
    "    train_r2 = r2_score(y_train, y_train_pred)\n",
    "    test_r2 = r2_score(y_test, y_test_pred)\n",
    "    \n",
    "    print(f\"Training MSE: {train_mse}\")\n",
    "    print(f\"Testing MSE: {test_mse}\")\n",
    "    print(f\"Training R^2 Score: {train_r2}\")\n",
    "    print(f\"Testing R^2 Score: {test_r2}\")\n",
    "    \n",
    "    # Visualization\n",
    "    plt.figure(figsize=(10, 6))\n",
    "    plt.scatter(y_test, y_test_pred, edgecolors=(0, 0, 0), label='Test Data')\n",
    "    plt.scatter(y_train, y_train_pred, edgecolors=(0, 0, 0), label='Train Data', alpha=0.5)\n",
    "    plt.plot([min(y_test), max(y_test)], [min(y_test), max(y_test)], 'r', lw=2)\n",
    "    plt.xlabel('Actual')\n",
    "    plt.ylabel('Predicted')\n",
    "    plt.title('Linear Regression: Actual vs Predicted')\n",
    "    plt.legend()\n",
    "    plt.show()\n",
    "\n",
    "linear_regression_intro(X_train, X_test, y_train, y_test)\n"
   ]
  },
  {
   "cell_type": "markdown",
   "id": "f978b22e",
   "metadata": {},
   "source": [
    "Training MSE: 10.979 \n",
    "\n",
    "Testing MSE: 10.711\n",
    "\n",
    "**Explanation**:  \n",
    "The MSE (Mean Squared Error) for both the training and testing sets are close to each other. This indicates that the model's predictions are consistent across both datasets. If there was a large difference, it would suggest overfitting or underfitting.\n",
    "\n",
    "\n",
    "Training R² Score: 0.826 \n",
    "\n",
    "Testing R² Score: 0.790\n",
    "\n",
    "**Explanation**:  \n",
    "The R² score measures how well the model explains the variability of the target variable. Values are close for both sets, meaning the model generalizes well to unseen data. A high R² score indicates that the model explains a significant portion of the variance.\n",
    "\n",
    "\n",
    "#### Conclusion:  \n",
    "The model is neither overfitting nor underfitting, as evidenced by the similar MSE and R² scores for both training and testing sets. The model performs consistently and explains a good portion of the variance in the data.\n"
   ]
  },
  {
   "cell_type": "markdown",
   "id": "a02632d4",
   "metadata": {},
   "source": [
    "## 5. Cross-Validation\n",
    "Cross-validation is used to evaluate the model's performance by splitting the data into multiple folds and training/testing on different subsets. This helps in assessing the model's ability to generalize to unseen data."
   ]
  },
  {
   "cell_type": "code",
   "execution_count": 16,
   "id": "805749b9",
   "metadata": {},
   "outputs": [
    {
     "name": "stdout",
     "output_type": "stream",
     "text": [
      "\n",
      "### Model Validation ###\n",
      "Cross-Validation R^2 Scores: [0.53909658 0.7649111  0.83203731 0.7555265  0.261895  ]\n",
      "Mean Cross-Validation R^2 Score: 0.6306932971799519\n"
     ]
    }
   ],
   "source": [
    "# Cross-validation\n",
    "def model_validation(X, y):\n",
    "    print(\"\\n### Model Validation ###\")\n",
    "    \n",
    "    lr = LinearRegression()\n",
    "    kf = KFold(n_splits=5)\n",
    "    scores = cross_val_score(lr, X, y, cv=kf, scoring='r2')\n",
    "    print(f\"Cross-Validation R^2 Scores: {scores}\")\n",
    "    print(f\"Mean Cross-Validation R^2 Score: {np.mean(scores)}\")\n",
    "\n",
    "X = df.drop(['mpg', 'car name'], axis=1)\n",
    "X_transformed = ColumnTransformer(\n",
    "    transformers=[\n",
    "        ('log', FunctionTransformer(np.log1p, validate=True), ['displacement', 'horsepower', 'weight', 'acceleration']),\n",
    "        ('onehot', OneHotEncoder(), ['origin'])\n",
    "    ],\n",
    "    remainder='passthrough'\n",
    ").fit_transform(X)\n",
    "\n",
    "y = df['mpg']\n",
    "model_validation(X_transformed, y)\n"
   ]
  },
  {
   "cell_type": "markdown",
   "id": "4844ecfc",
   "metadata": {},
   "source": [
    "Individual Scores: [0.539, 0.765, 0.832, 0.756, 0.262]\n",
    "\n",
    "Mean Cross-Validation R² Score:\n",
    "**Average: 0.631**\n",
    "\n",
    "\n",
    "**Explanation**:\n",
    "\n",
    "The R² scores vary across the different folds, indicating some variability in model performance depending on the data split. \n",
    "\n",
    "The average R² score of 0.631 suggests that the model moderately explains the variance in the target variable. There is room for improvement in model performance.\n"
   ]
  },
  {
   "cell_type": "markdown",
   "id": "1901bb94",
   "metadata": {},
   "source": [
    "## 6. Regularization using Ridge and Lasso Regression\n",
    "We define a function regularization to train and evaluate Ridge and Lasso regression models. These regularization techniques help in preventing overfitting by adding penalty terms to the loss function. We evaluate the models using R^2 scores or other metrics MSE."
   ]
  },
  {
   "cell_type": "code",
   "execution_count": 17,
   "id": "2f506f54",
   "metadata": {},
   "outputs": [
    {
     "name": "stdout",
     "output_type": "stream",
     "text": [
      "\n",
      "### Regularization: Ridge and Lasso Regression ###\n",
      "Ridge Regression R^2 Score: 0.7903083415275747\n",
      "Lasso Regression R^2 Score: 0.7893046460847541\n"
     ]
    }
   ],
   "source": [
    "# Regularization: Ridge and Lasso Regression\n",
    "def regularization(X_train, X_test, y_train, y_test):\n",
    "    print(\"\\n### Regularization: Ridge and Lasso Regression ###\")\n",
    "    \n",
    "    # Ridge Regression\n",
    "    ridge = Ridge(alpha=1.0)\n",
    "    ridge.fit(X_train, y_train)\n",
    "    ridge_pred = ridge.predict(X_test)\n",
    "    print(f\"Ridge Regression R^2 Score: {r2_score(y_test, ridge_pred)}\")\n",
    "    \n",
    "    # Lasso Regression\n",
    "    lasso = Lasso(alpha=0.1)\n",
    "    lasso.fit(X_train, y_train)\n",
    "    lasso_pred = lasso.predict(X_test)\n",
    "    print(f\"Lasso Regression R^2 Score: {r2_score(y_test, lasso_pred)}\")\n",
    "\n",
    "regularization(X_train, X_test, y_train, y_test)\n"
   ]
  },
  {
   "cell_type": "markdown",
   "id": "b2bc95a5",
   "metadata": {},
   "source": [
    "### Simple Linear Regression:\n",
    "- **Training R² Score**: 0.826\n",
    "- **Testing R² Score**: 0.790\n",
    "- **Mean Cross-Validation R² Score**: 0.631\n",
    "\n",
    "### Ridge Regression R² Score:\n",
    "- **Testing**: 0.790\n",
    "\n",
    "### Lasso Regression R² Score:\n",
    "- **Testing**: 0.789\n",
    "\n",
    "### **Summary**:\n",
    "\n",
    "- **Performance**: Ridge and Lasso regression have similar R² scores to simple linear regression, indicating comparable predictive performance.\n",
    "\n",
    "- **Overfitting**: Regularization helps reduce overfitting by adding penalties, thus creating more stable models.\n",
    "\n",
    "### **Conclusion**:  \n",
    "While R² improvements are minimal, regularization enhances model robustness and stability.\n"
   ]
  }
 ],
 "metadata": {
  "kernelspec": {
   "display_name": "learn-env",
   "language": "python",
   "name": "python3"
  },
  "language_info": {
   "codemirror_mode": {
    "name": "ipython",
    "version": 3
   },
   "file_extension": ".py",
   "mimetype": "text/x-python",
   "name": "python",
   "nbconvert_exporter": "python",
   "pygments_lexer": "ipython3",
   "version": "3.8.5"
  }
 },
 "nbformat": 4,
 "nbformat_minor": 5
}
